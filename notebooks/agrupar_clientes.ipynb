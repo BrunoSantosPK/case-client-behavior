{
 "cells": [
  {
   "cell_type": "code",
   "execution_count": 16,
   "id": "4a813c25-931d-4a1f-88ca-3027d703ce80",
   "metadata": {},
   "outputs": [],
   "source": [
    "import numpy as np\n",
    "import pandas as pd\n",
    "import matplotlib.pyplot as plt\n",
    "from sklearn.cluster import KMeans\n",
    "from sklearn.preprocessing import LabelEncoder"
   ]
  },
  {
   "cell_type": "markdown",
   "id": "cd1e416f-8179-45b1-8668-4db2055c7a1b",
   "metadata": {},
   "source": [
    "## Faz o carregamento da base e aplica limpezas"
   ]
  },
  {
   "cell_type": "code",
   "execution_count": 24,
   "id": "c5a5dc22-b008-4fa4-b572-fc7950d7abfa",
   "metadata": {},
   "outputs": [],
   "source": [
    "# Carrega a base\n",
    "dataset = pd.read_csv(\"../data/dataset.csv\").dropna()\n",
    "\n",
    "# Define as regras para limpeza dos dados\n",
    "q1 = np.percentile(dataset[\"Income\"].values, 25)\n",
    "q3 = np.percentile(dataset[\"Income\"].values, 75)\n",
    "\n",
    "ano_min = 1930\n",
    "renda_min = q1 - 1.5 * (q3 - q1)\n",
    "renda_max = q3 + 1.5 * (q3 - q1)\n",
    "\n",
    "# Para cada registro, avalia as regras de permanência\n",
    "novo_dataset = []\n",
    "for i in range(0, len(dataset)):\n",
    "    ano = dataset[\"Year_Birth\"].values[i]\n",
    "    renda = dataset[\"Income\"].values[i]\n",
    "    \n",
    "    if ano > ano_minimo and (renda > renda_min and renda < renda_max):\n",
    "        novo_dataset.append(dataset.values[i])\n",
    "        \n",
    "dataset = pd.DataFrame(novo_dataset, columns=dataset.columns)"
   ]
  },
  {
   "cell_type": "markdown",
   "id": "0a47d25f-8468-45d3-b180-51cc1c5c2b06",
   "metadata": {},
   "source": [
    "## Aplica encoder para variáveis categóricas"
   ]
  },
  {
   "cell_type": "code",
   "execution_count": 28,
   "id": "977cc29b-f541-4680-882f-1610270c6f7f",
   "metadata": {},
   "outputs": [
    {
     "data": {
      "text/plain": [
       "LabelEncoder()"
      ]
     },
     "execution_count": 28,
     "metadata": {},
     "output_type": "execute_result"
    }
   ],
   "source": [
    "# Cria função para agrupamento de datas de nascimento\n",
    "def encode_ano(ano: int):\n",
    "    anos = [n for n in range(1940, 2010, 10)]\n",
    "    \n",
    "    for n in range(0, len(anos) - 1):\n",
    "        if n == 0 and ano < anos[n]:\n",
    "            return f\"-{anos[n]}\"\n",
    "        elif ano >= anos[n] and ano < anos[n + 1]:\n",
    "            return f\"{anos[n]}-{anos[n + 1]}\"\n",
    "        elif n == len(anos) - 2 and ano >= anos[n + 1]:\n",
    "            return f\"+{anos[n + 1]}\"\n",
    "        \n",
    "# Utiliza o encoder para colunas categóricas\n",
    "le_escolaridade = LabelEncoder()\n",
    "le_escolaridade.fit(dataset[\"Education\"].values)\n",
    "\n",
    "le_estado_civil = LabelEncoder()\n",
    "le_estado_civil.fit(dataset[\"Marital_Status\"].values)\n",
    "\n",
    "le_nascimento = LabelEncoder()\n",
    "le_nascimento.fit([encode_ano(v) for v in dataset[\"Year_Birth\"].values])"
   ]
  },
  {
   "cell_type": "markdown",
   "id": "989fa842-9d31-48f6-9155-0861f688f5e2",
   "metadata": {},
   "source": [
    "## Aplica clusterização para clientes"
   ]
  },
  {
   "cell_type": "code",
   "execution_count": 51,
   "id": "34ae5bc4-d7e9-4b78-8df0-f80dce2f10ba",
   "metadata": {},
   "outputs": [],
   "source": [
    "# Define matriz de entrada\n",
    "cat_nascimento = le_nascimento.transform([encode_ano(v) for v in dataset[\"Year_Birth\"].values])\n",
    "cat_escolaridade = le_escolaridade.transform(dataset[\"Education\"].values)\n",
    "cat_estado_civil = le_estado_civil.transform(dataset[\"Marital_Status\"].values)\n",
    "\n",
    "qntd_registros = len(cat_nascimento)\n",
    "matriz_cliente = [[\n",
    "    cat_nascimento[n],\n",
    "    cat_escolaridade[n],\n",
    "    cat_estado_civil[n],\n",
    "    dataset[\"Income\"].values[n],\n",
    "    dataset[\"Kidhome\"].values[n],\n",
    "    dataset[\"Teenhome\"].values[n]\n",
    "] for n in range(0, qntd_registros)]"
   ]
  },
  {
   "cell_type": "code",
   "execution_count": 38,
   "id": "0a5f15bd-14c8-4b21-b7f5-7bdb20eb12b9",
   "metadata": {},
   "outputs": [
    {
     "data": {
      "image/png": "[encoded data removed]",
      "text/plain": [
       "<Figure size 432x288 with 1 Axes>"
      ]
     },
     "metadata": {
      "needs_background": "light"
     },
     "output_type": "display_data"
    }
   ],
   "source": [
    "# Avaliza o número de clusters possíveis\n",
    "inercia = []\n",
    "for i in range(1, 11):\n",
    "    cluster = KMeans(n_clusters=i, random_state=0)\n",
    "    cluster.fit(matriz_cliente)\n",
    "    inercia.append(cluster.inertia_)\n",
    "    \n",
    "plt.plot(range(1, 11), inercia)\n",
    "plt.xlabel(\"Número de clusters\")\n",
    "plt.ylabel(\"Inércia\") \n",
    "plt.show()"
   ]
  },
  {
   "cell_type": "code",
   "execution_count": 49,
   "id": "a4b5a6ec-b43d-441b-ae2a-1eb18e9e7d0a",
   "metadata": {},
   "outputs": [
    {
     "data": {
      "text/plain": [
       "7"
      ]
     },
     "execution_count": 49,
     "metadata": {},
     "output_type": "execute_result"
    }
   ],
   "source": [
    "len(matriz_cliente[0])"
   ]
  },
  {
   "cell_type": "code",
   "execution_count": 52,
   "id": "67c0b10e-ca5e-4c04-b619-0b95da078043",
   "metadata": {},
   "outputs": [
    {
     "name": "stdout",
     "output_type": "stream",
     "text": [
      "442 clientes para o grupo 0\n",
      "288 clientes para o grupo 1\n",
      "394 clientes para o grupo 2\n",
      "401 clientes para o grupo 3\n",
      "410 clientes para o grupo 4\n",
      "270 clientes para o grupo 5\n"
     ]
    }
   ],
   "source": [
    "# Treina o modelo de clusterização para clientes e encontra os grupos\n",
    "model_clientes = KMeans(n_clusters=6, random_state=0)\n",
    "model_clientes.fit(matriz_cliente)\n",
    "\n",
    "colunas = [\n",
    "    \"nascimento\", \"escolaridade\", \"estado_civil\",\n",
    "    \"renda\", \"criancas\", \"adolescentes\", \"grupo\"\n",
    "]\n",
    "for n in range(0, qntd_registros):\n",
    "    matriz_cliente[n].append(model_clientes.labels_[n])\n",
    "    \n",
    "matriz_cliente = pd.DataFrame(matriz_cliente, columns=colunas)\n",
    "    \n",
    "# Encontra metadados sobre os clusters\n",
    "for grupo in set(model_clientes.labels_):\n",
    "    subset = matriz_cliente.loc[matriz_cliente[\"grupo\"] == grupo]\n",
    "    print(f\"{len(subset)} clientes para o grupo {grupo}\")"
   ]
  },
  {
   "cell_type": "code",
   "execution_count": 44,
   "id": "2f465f2a-e766-4b43-9e7e-579e588a6914",
   "metadata": {},
   "outputs": [
    {
     "ename": "TypeError",
     "evalue": "only integer scalar arrays can be converted to a scalar index",
     "output_type": "error",
     "traceback": [
      "\u001b[1;31m---------------------------------------------------------------------------\u001b[0m",
      "\u001b[1;31mTypeError\u001b[0m                                 Traceback (most recent call last)",
      "\u001b[1;32m~\\AppData\\Local\\Temp\\ipykernel_3676\\2174941633.py\u001b[0m in \u001b[0;36m<module>\u001b[1;34m\u001b[0m\n\u001b[0;32m      1\u001b[0m \u001b[0ma\u001b[0m \u001b[1;33m=\u001b[0m \u001b[0mnp\u001b[0m\u001b[1;33m.\u001b[0m\u001b[0mreshape\u001b[0m\u001b[1;33m(\u001b[0m\u001b[0mmodel_clientes\u001b[0m\u001b[1;33m.\u001b[0m\u001b[0mlabels_\u001b[0m\u001b[1;33m,\u001b[0m \u001b[1;33m(\u001b[0m\u001b[1;33m-\u001b[0m\u001b[1;36m1\u001b[0m\u001b[1;33m,\u001b[0m \u001b[1;36m1\u001b[0m\u001b[1;33m)\u001b[0m\u001b[1;33m)\u001b[0m\u001b[1;33m\u001b[0m\u001b[1;33m\u001b[0m\u001b[0m\n\u001b[1;32m----> 2\u001b[1;33m \u001b[0mnp\u001b[0m\u001b[1;33m.\u001b[0m\u001b[0mconcatenate\u001b[0m\u001b[1;33m(\u001b[0m\u001b[0mnp\u001b[0m\u001b[1;33m.\u001b[0m\u001b[0marray\u001b[0m\u001b[1;33m(\u001b[0m\u001b[0mmatriz_cliente\u001b[0m\u001b[1;33m)\u001b[0m\u001b[1;33m,\u001b[0m \u001b[0ma\u001b[0m\u001b[1;33m)\u001b[0m\u001b[1;33m\u001b[0m\u001b[1;33m\u001b[0m\u001b[0m\n\u001b[0m",
      "\u001b[1;32m<__array_function__ internals>\u001b[0m in \u001b[0;36mconcatenate\u001b[1;34m(*args, **kwargs)\u001b[0m\n",
      "\u001b[1;31mTypeError\u001b[0m: only integer scalar arrays can be converted to a scalar index"
     ]
    }
   ],
   "source": [
    "a = np.reshape(model_clientes.labels_, (-1, 1))\n",
    "np.concatenate(np.array(matriz_cliente), a)"
   ]
  },
  {
   "cell_type": "code",
   "execution_count": null,
   "id": "f2bddeba-3875-437a-81ec-19d84f20c911",
   "metadata": {},
   "outputs": [],
   "source": [
    "# Define matriz de entrada\n",
    "cat_nascimento = le_nascimento.transform([encode_ano(v) for v in dataset[\"Year_Birth\"].values])\n",
    "cat_escolaridade = le_escolaridade.transform(dataset[\"Education\"].values)\n",
    "cat_estado_civil = le_estado_civil.transform(dataset[\"Marital_Status\"].values)\n",
    "\n",
    "qntd_registros = len(cat_nascimento)\n",
    "matriz = [[\n",
    "    cat_nascimento[n],\n",
    "    cat_escolaridade[n],\n",
    "    cat_estado_civil[n],\n",
    "    dataset[\"Income\"].values[n],\n",
    "    dataset[\"Kidhome\"].values[n],\n",
    "    dataset[\"Teenhome\"].values[n]\n",
    "] for n in range(0, qntd_registros)]\n",
    "\n",
    "# Define as colunas para agrupamento de clientes\n",
    "col_grupo_clientes = [\n",
    "    \"Year_Birth\",\n",
    "    \"Education\",\n",
    "    \"Marital_Status\",\n",
    "    #\"Income\",\n",
    "    \"Kidhome\",\n",
    "    \"Teenhome\"\n",
    "]\n",
    "df_clientes = dataset[col_grupo_clientes]\n",
    "\n",
    "# Prepara os dados para agrupamento de perfil de clientes\n",
    "le_ed = LabelEncoder()\n",
    "df_clientes[\"Education\"] = le_ed.fit_transform(df_clientes[\"Education\"].values)\n",
    "\n",
    "le_ec = LabelEncoder()\n",
    "df_clientes[\"Marital_Status\"] = le_ec.fit_transform(df_clientes[\"Marital_Status\"].values)\n",
    "\n",
    "# Executa análise para quantidade de clusters\n",
    "inercia = []\n",
    "for i in range(1, 11):\n",
    "    cluster = KMeans(n_clusters=i, random_state=0)\n",
    "    cluster.fit(df_clientes.values)\n",
    "    inercia.append(cluster.inertia_)\n",
    "    \n",
    "plt.plot(range(1, 11), inercia)\n",
    "plt.xlabel(\"Número de clusters\")\n",
    "plt.ylabel(\"Inércia\") \n",
    "plt.show()"
   ]
  },
  {
   "cell_type": "code",
   "execution_count": 23,
   "id": "8e31387d-00ce-4f24-9087-3081800025a2",
   "metadata": {},
   "outputs": [
    {
     "data": {
      "text/plain": [
       "1940"
      ]
     },
     "execution_count": 23,
     "metadata": {},
     "output_type": "execute_result"
    }
   ],
   "source": [
    "min(dataset[\"Year_Birth\"].values)"
   ]
  },
  {
   "cell_type": "code",
   "execution_count": 3,
   "id": "49507415-9d88-48a4-b9e1-1a5fdca47fc0",
   "metadata": {},
   "outputs": [
    {
     "data": {
      "text/plain": [
       "Index(['ID', 'Year_Birth', 'Education', 'Marital_Status', 'Income', 'Kidhome',\n",
       "       'Teenhome', 'Dt_Customer', 'Recency', 'MntWines', 'MntFruits',\n",
       "       'MntMeatProducts', 'MntFishProducts', 'MntSweetProducts',\n",
       "       'MntGoldProds', 'NumDealsPurchases', 'NumWebPurchases',\n",
       "       'NumCatalogPurchases', 'NumStorePurchases', 'NumWebVisitsMonth',\n",
       "       'AcceptedCmp3', 'AcceptedCmp4', 'AcceptedCmp5', 'AcceptedCmp1',\n",
       "       'AcceptedCmp2', 'Complain', 'Z_CostContact', 'Z_Revenue', 'Response'],\n",
       "      dtype='object')"
      ]
     },
     "execution_count": 3,
     "metadata": {},
     "output_type": "execute_result"
    }
   ],
   "source": [
    "dataset.columns"
   ]
  },
  {
   "cell_type": "code",
   "execution_count": null,
   "id": "727b4768-4065-4d55-a94f-7525b2533e7a",
   "metadata": {},
   "outputs": [],
   "source": []
  },
  {
   "cell_type": "code",
   "execution_count": null,
   "id": "79c31b7c-e766-461e-ba8d-ca3b46e70bb9",
   "metadata": {},
   "outputs": [],
   "source": []
  }
 ],
 "metadata": {
  "kernelspec": {
   "display_name": "Python 3 (ipykernel)",
   "language": "python",
   "name": "python3"
  },
  "language_info": {
   "codemirror_mode": {
    "name": "ipython",
    "version": 3
   },
   "file_extension": ".py",
   "mimetype": "text/x-python",
   "name": "python",
   "nbconvert_exporter": "python",
   "pygments_lexer": "ipython3",
   "version": "3.7.6"
  }
 },
 "nbformat": 4,
 "nbformat_minor": 5
}
