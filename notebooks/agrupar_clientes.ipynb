{
 "cells": [
  {
   "cell_type": "markdown",
   "id": "d066d2a6-6172-4756-92fe-ed4955100998",
   "metadata": {},
   "source": [
    "## Carrega bibliotecas necessárias"
   ]
  },
  {
   "cell_type": "code",
   "execution_count": 39,
   "id": "4a813c25-931d-4a1f-88ca-3027d703ce80",
   "metadata": {},
   "outputs": [],
   "source": [
    "import pickle\n",
    "import pandas as pd\n",
    "import matplotlib.pyplot as plt\n",
    "from sklearn.cluster import KMeans\n",
    "from sklearn.preprocessing import LabelEncoder"
   ]
  },
  {
   "cell_type": "markdown",
   "id": "b774f2ee-8646-4d53-8c3d-ee51fdc9532b",
   "metadata": {},
   "source": [
    "## Carrega a base e avalia a frequência de classes mativas"
   ]
  },
  {
   "cell_type": "code",
   "execution_count": 2,
   "id": "adcd3f6f-b7b8-4f0e-a67e-bf6054b48530",
   "metadata": {},
   "outputs": [],
   "source": [
    "# Carrega a base e define os campos categóricos\n",
    "dataset = pd.read_csv(\"../data/dataset_clean.csv\")\n",
    "campos_categoricos = [\n",
    "    \"Education\", \"Marital_Status\", \"Kidhome\", \"Teenhome\"\n",
    "]\n",
    "\n",
    "# Para cada campo, registra uma tabela de frequência para\n",
    "# categorias existentes, em ordem decrescente\n",
    "frequencias = {}\n",
    "for campo in campos_categoricos:\n",
    "    categorias = set(dataset[campo].values)\n",
    "    df = []\n",
    "    \n",
    "    for categoria in categorias:\n",
    "        df.append({\n",
    "            \"categoria\": categoria,\n",
    "            \"frequencia\": list(dataset[campo].values).count(categoria)\n",
    "        })\n",
    "        \n",
    "    frequencias[campo] = pd.DataFrame(df).sort_values(\"frequencia\", ascending=False)\n",
    "    \n",
    "# Para cada campo, aplica regra de permanência, definida\n",
    "# arbitrariamente para este projeto\n",
    "para_remover = {}\n",
    "\n",
    "for campo in frequencias.keys():\n",
    "    total = sum([v for v in frequencias[campo][\"frequencia\"].values])\n",
    "    frequencia_min = 0.8 / len(frequencias[campo])\n",
    "    para_remover[campo] = []\n",
    "    \n",
    "    for i in range(0, len(frequencias[campo])):\n",
    "        freq = frequencias[campo][\"frequencia\"].values[i]\n",
    "        cat = frequencias[campo][\"categoria\"].values[i]\n",
    "        \n",
    "        if (freq / total) < frequencia_min:\n",
    "            para_remover[campo].append(cat)\n",
    "            \n",
    "# Monta o dataset processado para treinamento\n",
    "novo_dataset = []\n",
    "for i in range(0, len(dataset)):\n",
    "    valido = True\n",
    "    \n",
    "    for campo in campos_categoricos:\n",
    "        valor = dataset[campo].values[i]\n",
    "        if valor in para_remover[campo]:\n",
    "            valido = False\n",
    "            \n",
    "    if valido:\n",
    "        novo_dataset.append(dataset.values[i])\n",
    "        \n",
    "dataset = pd.DataFrame(novo_dataset, columns=dataset.columns)"
   ]
  },
  {
   "cell_type": "markdown",
   "id": "64a9ba29-9ecc-4cba-b7f7-c8d072f96a47",
   "metadata": {},
   "source": [
    "## Aplica categorização para data de nascimento e renda"
   ]
  },
  {
   "cell_type": "code",
   "execution_count": 3,
   "id": "6bf8b820-e4b9-4be0-a9ed-b29780cd89cb",
   "metadata": {},
   "outputs": [],
   "source": [
    "# Cria função para agrupamento de datas de nascimento\n",
    "def encode_ano(ano: int):\n",
    "    anos = [n for n in range(1940, 2010, 10)]\n",
    "    \n",
    "    for n in range(0, len(anos) - 1):\n",
    "        if n == 0 and ano < anos[n]:\n",
    "            return f\"-{anos[n]}\"\n",
    "        elif ano >= anos[n] and ano < anos[n + 1]:\n",
    "            return f\"{anos[n]}-{anos[n + 1]}\"\n",
    "        elif n == len(anos) - 2 and ano >= anos[n + 1]:\n",
    "            return f\"+{anos[n + 1]}\"\n",
    "        \n",
    "\n",
    "# Cria função para agrupamento de renda\n",
    "def encode_renda(renda: float):\n",
    "    rendas = [n for n in range(1000, 120000, 5000)]\n",
    "    \n",
    "    for n in range(0, len(rendas) - 1):\n",
    "        if n == 0 and renda < rendas[n]:\n",
    "            return f\"-{rendas[n]}\"\n",
    "        elif renda >= rendas[n] and renda < rendas[n + 1]:\n",
    "            return f\"{rendas[n]}-{rendas[n + 1]}\"\n",
    "        elif n == len(rendas) - 2 and renda >= rendas[n + 1]:\n",
    "            return f\"+{rendas[n + 1]}\""
   ]
  },
  {
   "cell_type": "code",
   "execution_count": 4,
   "id": "9a1bb253-3355-419c-bcb2-5c76e2ef3afd",
   "metadata": {},
   "outputs": [],
   "source": [
    "# Cria colunas novas com as categorias artificiais\n",
    "dataset.insert(0, \"nascimento\", [encode_ano(v) for v in dataset[\"Year_Birth\"].values])\n",
    "dataset.insert(1, \"renda\", [encode_renda(v) for v in dataset[\"Income\"].values])\n",
    "\n",
    "# Cria a instância para encoder das categorias\n",
    "le_escolaridade = LabelEncoder()\n",
    "v_ed = le_escolaridade.fit_transform(dataset[\"Education\"].values)\n",
    "\n",
    "le_estado_civil = LabelEncoder()\n",
    "v_ec = le_estado_civil.fit_transform(dataset[\"Marital_Status\"].values)\n",
    "\n",
    "le_nascimento = LabelEncoder()\n",
    "v_dn = le_nascimento.fit_transform(dataset[\"nascimento\"].values)\n",
    "\n",
    "le_renda = LabelEncoder()\n",
    "v_rd = le_renda.fit_transform(dataset[\"renda\"].values)\n",
    "\n",
    "# Inclui as colunas categorizadas no dataset\n",
    "dataset.insert(0, \"encoder_escolaridade\", v_ed)\n",
    "dataset.insert(1, \"encoder_estado_civil\", v_ec)\n",
    "dataset.insert(2, \"encoder_nascimento\", v_dn)\n",
    "dataset.insert(3, \"encoder_renda\", v_rd)"
   ]
  },
  {
   "cell_type": "markdown",
   "id": "c6560183-4824-405d-b459-058272902a19",
   "metadata": {
    "tags": []
   },
   "source": [
    "## Agrupa os clientes e explica os grupos\n",
    "\n",
    "### Resumo dos grupos\n",
    "\n",
    "- Grupo 0: Married/Together + Graduation(+/-) + 0 crinaça + 1 adolescente + 1950-1970 + 46k-56k\n",
    "- Grupo 1: Married + Graduation + 1 criança + 0 adolescente + 1970-1990 + 21k-31k\n",
    "- Grupo 2: Together/Married + 1 criança (+/-) + 1 adolescente + 1950-1970 + 36k-46k\n",
    "- Grupo 3: Married/Together + 0 criança + 1 adolescente (+/-) + 1950-1980 + 61k-71k\n",
    "- Grupo 4: Married + 1 criança + 0 adolescente + 1970-1990 + 31k-41k# Separa a matriz de características para clientes\n",
    "dados_clientes = dataset[[\n",
    "    \"encoder_escolaridade\", \"encoder_estado_civil\", \"encoder_nascimento\",\n",
    "    \"encoder_renda\", \"Kidhome\", \"Teenhome\"\n",
    "]]"
   ]
  },
  {
   "cell_type": "code",
   "execution_count": 5,
   "id": "c38ae69e-71cf-49fa-b565-ba2fa045d1d0",
   "metadata": {},
   "outputs": [],
   "source": [
    "# Separa a matriz de características para clientes\n",
    "dados_clientes = dataset[[\n",
    "    \"encoder_escolaridade\", \"encoder_estado_civil\", \"encoder_nascimento\",\n",
    "    \"encoder_renda\", \"Kidhome\", \"Teenhome\"\n",
    "]]"
   ]
  },
  {
   "cell_type": "code",
   "execution_count": 6,
   "id": "ee350f61-7f9a-4b32-88fb-13e65968a2bf",
   "metadata": {},
   "outputs": [
    {
     "data": {
      "image/png": "[encoded data removed]",
      "text/plain": [
       "<Figure size 432x288 with 1 Axes>"
      ]
     },
     "metadata": {
      "needs_background": "light"
     },
     "output_type": "display_data"
    }
   ],
   "source": [
    "# Avaliza o número de clusters para encontrar a quantidade\n",
    "# de grupos ideal\n",
    "inercia = []\n",
    "total = 16\n",
    "\n",
    "for i in range(1, total):\n",
    "    cluster = KMeans(n_clusters=i, random_state=0)\n",
    "    cluster.fit(dados_clientes.values)\n",
    "    inercia.append(cluster.inertia_)\n",
    "    \n",
    "plt.plot(range(1, total), inercia)\n",
    "plt.xlabel(\"Número de clusters\")\n",
    "plt.ylabel(\"Inércia\") \n",
    "plt.show()"
   ]
  },
  {
   "cell_type": "code",
   "execution_count": 7,
   "id": "cc291162-46a8-4ad1-9a52-2fa3f2cc72bb",
   "metadata": {},
   "outputs": [],
   "source": [
    "# Treina o modelo de clusterização para clientes e encontra os grupos\n",
    "model_clientes = KMeans(n_clusters=5, random_state=0)\n",
    "model_clientes.fit(dados_clientes.values)\n",
    "dataset.insert(0, \"grupo_cliente\", model_clientes.labels_)\n",
    "\n",
    "# Encontra metadados para os grupos dados os campos definidos\n",
    "metadados_grupos_clientes = []\n",
    "campos = [\n",
    "    \"Education\", \"Marital_Status\", \"Kidhome\", \"Teenhome\",\n",
    "    \"nascimento\", \"renda\"\n",
    "]\n",
    "\n",
    "for grupo in set(model_clientes.labels_):\n",
    "    subset = dataset.loc[dataset[\"grupo_cliente\"] == grupo]\n",
    "    \n",
    "    for campo in campos:\n",
    "        categorias = set(subset[campo].values)\n",
    "        \n",
    "        for categoria in categorias:\n",
    "            metadados_grupos_clientes.append({\n",
    "                \"grupo\": grupo,\n",
    "                \"campo\": campo,\n",
    "                \"categoria\": str(categoria),\n",
    "                \"observacoes\": list(subset[campo].values).count(categoria)\n",
    "            })\n",
    "            \n",
    "metadados_grupos_clientes = pd.DataFrame(metadados_grupos_clientes)"
   ]
  },
  {
   "cell_type": "code",
   "execution_count": 8,
   "id": "35fc160c-29d4-4b4c-93f1-fb0fa9efb5c0",
   "metadata": {},
   "outputs": [],
   "source": [
    "# Para cada grupo, faz a descrição da composição\n",
    "for grupo in set(model_clientes.labels_):\n",
    "    #print(f\"AVALIANDO PARA O GRUPO {grupo}\")\n",
    "    \n",
    "    subset = metadados_grupos_clientes.loc[metadados_grupos_clientes[\"grupo\"] == grupo]\n",
    "    for campo in set(subset[\"campo\"].values):\n",
    "        #print(f\"\\nDistribuição para {campo}\")\n",
    "        \n",
    "        temp = subset.loc[subset[\"campo\"] == campo]\n",
    "        total_observacoes = sum(temp[\"observacoes\"].values)\n",
    "        \n",
    "        for i in range(0, len(temp)):\n",
    "            categoria = temp[\"categoria\"].values[i]\n",
    "            observacoes = temp[\"observacoes\"].values[i]\n",
    "            \n",
    "            #print(f\"{categoria}: {observacoes * 100 / total_observacoes}\")\n",
    "            \n",
    "    #print(\"===================================\\n\")"
   ]
  },
  {
   "cell_type": "markdown",
   "id": "2a553ef0-59eb-4fc7-a732-b1d4f2e4c1a6",
   "metadata": {},
   "source": [
    "## Encontra a preferência de produtos para cada grupo de cliente"
   ]
  },
  {
   "cell_type": "code",
   "execution_count": 36,
   "id": "8f5b919e-7b7b-45dc-84bb-1ebe5ae3c893",
   "metadata": {},
   "outputs": [
    {
     "name": "stdout",
     "output_type": "stream",
     "text": [
      "Para o grupo 0, as preferências de produtos são:\n",
      "MntWines: 64.68010355029585\n",
      "MntFruits: 2.518491124260355\n",
      "MntMeatProducts: 18.15735946745562\n",
      "MntFishProducts: 3.7934541420118344\n",
      "MntSweetProducts: 2.6072485207100593\n",
      "MntGoldProds: 8.243343195266272\n",
      "\n",
      "Para o grupo 1, as preferências de produtos são:\n",
      "MntWines: 28.137801356524076\n",
      "MntFruits: 7.158686454905648\n",
      "MntMeatProducts: 28.507151970989188\n",
      "MntFishProducts: 10.09334497347391\n",
      "MntSweetProducts: 6.433416157410516\n",
      "MntGoldProds: 19.669599086696664\n",
      "\n",
      "Para o grupo 2, as preferências de produtos são:\n",
      "MntWines: 55.29485752987277\n",
      "MntFruits: 3.5411929756663927\n",
      "MntMeatProducts: 21.392288713656814\n",
      "MntFishProducts: 4.489381258768323\n",
      "MntSweetProducts: 3.1686904358763486\n",
      "MntGoldProds: 12.113589086159354\n",
      "\n",
      "Para o grupo 3, as preferências de produtos são:\n",
      "MntWines: 62.4952467868279\n",
      "MntFruits: 2.5439196897102443\n",
      "MntMeatProducts: 23.769868431059397\n",
      "MntFishProducts: 4.188259835077083\n",
      "MntSweetProducts: 2.801408037547668\n",
      "MntGoldProds: 4.201297219777713\n",
      "\n",
      "Para o grupo 4, as preferências de produtos são:\n",
      "MntWines: 48.739447039368706\n",
      "MntFruits: 3.71058052162813\n",
      "MntMeatProducts: 24.627926542690535\n",
      "MntFishProducts: 6.086628564797354\n",
      "MntSweetProducts: 4.456178015027996\n",
      "MntGoldProds: 12.37923931648728\n",
      "\n"
     ]
    }
   ],
   "source": [
    "campos = [\n",
    "    \"MntWines\", \"MntFruits\", \"MntMeatProducts\",\n",
    "    \"MntFishProducts\", \"MntSweetProducts\", \"MntGoldProds\"\n",
    "]\n",
    "\n",
    "for grupo in set(model_clientes.labels_):\n",
    "    subset = dataset.loc[dataset[\"grupo_cliente\"] == grupo]\n",
    "    \n",
    "    total = 0\n",
    "    produtos = {}\n",
    "    for campo in campos:\n",
    "        total_produto = sum(subset[campo].values)\n",
    "        produtos[campo] = total_produto\n",
    "        total = total + total_produto\n",
    "        \n",
    "    print(f\"Para o grupo {grupo}, as preferências de produtos são:\")\n",
    "    for campo in campos:\n",
    "        print(f\"{campo}: {produtos[campo] * 100 / total}\")\n",
    "    print(\"\")"
   ]
  },
  {
   "cell_type": "markdown",
   "id": "f9d36f95-2cf0-462a-935d-bff8b21b3925",
   "metadata": {},
   "source": [
    "## Encontra a preferência de método de compra para cada grupo"
   ]
  },
  {
   "cell_type": "code",
   "execution_count": 37,
   "id": "e4d4e896-be09-4314-bb9d-8d909a5e167f",
   "metadata": {},
   "outputs": [
    {
     "name": "stdout",
     "output_type": "stream",
     "text": [
      "Para o grupo 0, as preferências de compra são:\n",
      "NumDealsPurchases: 18.79661859771258\n",
      "NumWebPurchases: 29.38836399801094\n",
      "NumCatalogPurchases: 13.326703132769767\n",
      "NumStorePurchases: 38.48831427150672\n",
      "\n",
      "Para o grupo 1, as preferências de compra são:\n",
      "NumDealsPurchases: 26.599113362887906\n",
      "NumWebPurchases: 26.535782140595312\n",
      "NumCatalogPurchases: 5.00316656111463\n",
      "NumStorePurchases: 41.86193793540215\n",
      "\n",
      "Para o grupo 2, as preferências de compra são:\n",
      "NumDealsPurchases: 25.967628430682616\n",
      "NumWebPurchases: 26.460239268121043\n",
      "NumCatalogPurchases: 8.304011259676285\n",
      "NumStorePurchases: 39.268121041520054\n",
      "\n",
      "Para o grupo 3, as preferências de compra são:\n",
      "NumDealsPurchases: 9.486663311524913\n",
      "NumWebPurchases: 27.70508303975843\n",
      "NumCatalogPurchases: 20.306995470558633\n",
      "NumStorePurchases: 42.501258178158025\n",
      "\n",
      "Para o grupo 4, as preferências de compra são:\n",
      "NumDealsPurchases: 23.52112676056338\n",
      "NumWebPurchases: 30.093896713615024\n",
      "NumCatalogPurchases: 7.511737089201878\n",
      "NumStorePurchases: 38.87323943661972\n",
      "\n"
     ]
    }
   ],
   "source": [
    "campos = [\n",
    "    \"NumDealsPurchases\", \"NumWebPurchases\",\n",
    "    \"NumCatalogPurchases\", \"NumStorePurchases\"\n",
    "]\n",
    "\n",
    "for grupo in set(model_clientes.labels_):\n",
    "    subset = dataset.loc[dataset[\"grupo_cliente\"] == grupo]\n",
    "    \n",
    "    total = 0\n",
    "    compras = {}\n",
    "    for campo in campos:\n",
    "        total_compra = sum(subset[campo].values)\n",
    "        compras[campo] = total_compra\n",
    "        total = total + total_compra\n",
    "        \n",
    "    print(f\"Para o grupo {grupo}, as preferências de compra são:\")\n",
    "    for campo in campos:\n",
    "        print(f\"{campo}: {compras[campo] * 100 / total}\")\n",
    "    print(\"\")"
   ]
  },
  {
   "cell_type": "markdown",
   "id": "c9e7059c-87b6-4346-aabc-63fb7b69796f",
   "metadata": {},
   "source": [
    "## Verifica qual grupo é mais receptível à campanha"
   ]
  },
  {
   "cell_type": "code",
   "execution_count": 38,
   "id": "7366c28f-afec-4969-935b-008082dac766",
   "metadata": {},
   "outputs": [
    {
     "name": "stdout",
     "output_type": "stream",
     "text": [
      "Para o grupo 0, a tendência de aceitar as campanhas é:\n",
      "Total registros: 265\n",
      "Total aceites: 23 ou 8.679245283018869%\n",
      "\n",
      "Para o grupo 1, a tendência de aceitar as campanhas é:\n",
      "Total registros: 223\n",
      "Total aceites: 26 ou 11.659192825112108%\n",
      "\n",
      "Para o grupo 2, a tendência de aceitar as campanhas é:\n",
      "Total registros: 155\n",
      "Total aceites: 13 ou 8.387096774193548%\n",
      "\n",
      "Para o grupo 3, a tendência de aceitar as campanhas é:\n",
      "Total registros: 197\n",
      "Total aceites: 27 ou 13.705583756345177%\n",
      "\n",
      "Para o grupo 4, a tendência de aceitar as campanhas é:\n",
      "Total registros: 230\n",
      "Total aceites: 31 ou 13.478260869565217%\n",
      "\n"
     ]
    }
   ],
   "source": [
    "for grupo in set(model_clientes.labels_):\n",
    "    subset = dataset.loc[dataset[\"grupo_cliente\"] == grupo]\n",
    "    total_aceites = sum(subset[\"Response\"].values)\n",
    "    \n",
    "    print(f\"Para o grupo {grupo}, a tendência de aceitar as campanhas é:\")\n",
    "    print(f\"Total registros: {len(subset)}\")\n",
    "    print(f\"Total aceites: {total_aceites} ou {total_aceites * 100 / len(subset)}%\")\n",
    "    print(\"\")"
   ]
  },
  {
   "cell_type": "markdown",
   "id": "a64ffc5d-00b2-4434-85df-1becd96d6321",
   "metadata": {},
   "source": [
    "## Persiste todos os modelos"
   ]
  },
  {
   "cell_type": "code",
   "execution_count": 41,
   "id": "36c52147-a1b6-4a69-a550-3d217269ee4e",
   "metadata": {},
   "outputs": [],
   "source": [
    "# Salva modelo de clusterização de clientes\n",
    "file = open(\"../models/model_clientes.pickle\", \"wb\")\n",
    "pickle.dump(model_clientes, file)\n",
    "file.close()\n",
    "\n",
    "# Salva encoder para escolaridade\n",
    "file = open(\"../models/encoder_escolaridade.pickle\", \"wb\")\n",
    "pickle.dump(le_escolaridade, file)\n",
    "file.close()\n",
    "\n",
    "# Salva encoder para estado civil\n",
    "file = open(\"../models/encoder_estado_civil.pickle\", \"wb\")\n",
    "pickle.dump(le_estado_civil, file)\n",
    "file.close()\n",
    "\n",
    "# Salva encoder para data de nascimento\n",
    "file = open(\"../models/encoder_data_nascimento.pickle\", \"wb\")\n",
    "pickle.dump(le_nascimento, file)\n",
    "file.close()\n",
    "\n",
    "# Salva encoder para renda\n",
    "file = open(\"../models/encoder_renda.pickle\", \"wb\")\n",
    "pickle.dump(le_renda, file)\n",
    "file.close()"
   ]
  }
 ],
 "metadata": {
  "kernelspec": {
   "display_name": "Python 3 (ipykernel)",
   "language": "python",
   "name": "python3"
  },
  "language_info": {
   "codemirror_mode": {
    "name": "ipython",
    "version": 3
   },
   "file_extension": ".py",
   "mimetype": "text/x-python",
   "name": "python",
   "nbconvert_exporter": "python",
   "pygments_lexer": "ipython3",
   "version": "3.8.10"
  }
 },
 "nbformat": 4,
 "nbformat_minor": 5
}
