{
 "cells": [
  {
   "cell_type": "markdown",
   "id": "4fdb2f58-5418-4f3d-894f-34497f177948",
   "metadata": {},
   "source": [
    "## Importação de bibliotecas utilizadas"
   ]
  },
  {
   "cell_type": "code",
   "execution_count": 1,
   "id": "146d847a-5f7e-4469-aaa5-f9feda15931f",
   "metadata": {},
   "outputs": [],
   "source": [
    "import numpy as np\n",
    "import pandas as pd"
   ]
  },
  {
   "cell_type": "markdown",
   "id": "9665ec00-3b25-470a-88b3-c5688f2bb861",
   "metadata": {},
   "source": [
    "## Faz o carregamento da base e aplica limpezas"
   ]
  },
  {
   "cell_type": "code",
   "execution_count": 37,
   "id": "4082137b-3f54-46c7-bc1b-f2c3238bb377",
   "metadata": {},
   "outputs": [],
   "source": [
    "# Carrega a base e avalia necessidade de limpeza de campos numéricos\n",
    "dataset = pd.read_csv(\"../data/dataset.csv\").dropna()\n",
    "campos_numericos = [\n",
    "    \"Income\", \"MntWines\", \"MntFruits\", \"MntMeatProducts\",\n",
    "    \"MntFishProducts\", \"MntSweetProducts\", \"MntGoldProds\",\n",
    "    \"NumDealsPurchases\", \"NumWebPurchases\", \"NumCatalogPurchases\",\n",
    "    \"NumStorePurchases\", \"NumWebVisitsMonth\", \"Recency\"\n",
    "]\n",
    "\n",
    "# Para cada campo, avalia a diferença entre o máximo e q3,\n",
    "# decidindo a necessidade de aplicar método de limpeza.\n",
    "# Avaliando o conjunto, a data de nascimento passará por\n",
    "# um processo diferente.\n",
    "para_limpeza = {\n",
    "    \"Year_Birth\": {\"lim_inf\": 1930, \"lim_sup\": 2000}\n",
    "}\n",
    "\n",
    "for campo in campos_numericos:\n",
    "    maximo = max(dataset[campo].values)\n",
    "    q3 = np.percentile(dataset[campo].values, 75)\n",
    "    dif = (maximo - q3) / q3\n",
    "    \n",
    "    if dif > 0.4:\n",
    "        # Cadastra o campo para remoção de outliers\n",
    "        q1 = np.percentile(dataset[campo].values, 25)\n",
    "        para_limpeza[campo] = {\n",
    "            \"lim_inf\": q1 - 1.5 * (q3 - q1),\n",
    "            \"lim_sup\": q3 + 1.5 * (q3 - q1)\n",
    "        }\n",
    "        \n",
    "# Remove os outliers para cada campo\n",
    "novo_dataset = []\n",
    "for i in range(0, len(dataset)):\n",
    "    valido = True\n",
    "    for campo in para_limpeza.keys():\n",
    "        valor = dataset[campo].values[i]\n",
    "        \n",
    "        # Se o valor do campo for outlier, registra como skip\n",
    "        if valor < para_limpeza[campo][\"lim_inf\"] or\\\n",
    "            valor > para_limpeza[campo][\"lim_sup\"]:\n",
    "            valido = False\n",
    "            break\n",
    "            \n",
    "    if valido:\n",
    "        novo_dataset.append(dataset.values[i])\n",
    "        \n",
    "# Finaliza a limpeza\n",
    "dataset = pd.DataFrame(novo_dataset, columns=dataset.columns)\n",
    "dataset.to_csv(\"../data/dataset_clean.csv\")"
   ]
  }
 ],
 "metadata": {
  "kernelspec": {
   "display_name": "Python 3 (ipykernel)",
   "language": "python",
   "name": "python3"
  },
  "language_info": {
   "codemirror_mode": {
    "name": "ipython",
    "version": 3
   },
   "file_extension": ".py",
   "mimetype": "text/x-python",
   "name": "python",
   "nbconvert_exporter": "python",
   "pygments_lexer": "ipython3",
   "version": "3.8.10"
  }
 },
 "nbformat": 4,
 "nbformat_minor": 5
}
