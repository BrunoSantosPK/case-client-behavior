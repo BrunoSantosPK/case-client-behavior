{
 "cells": [
  {
   "cell_type": "markdown",
   "id": "d46d0ac1-f34c-4bbe-ac75-a07681c7b5ce",
   "metadata": {},
   "source": [
    "## Carrega bibliotecas necessárias e a base de dados processada"
   ]
  },
  {
   "cell_type": "code",
   "execution_count": 16,
   "id": "5de0d247-52be-482a-ac4f-aad56429798c",
   "metadata": {},
   "outputs": [],
   "source": [
    "import pandas as pd\n",
    "from sklearn.naive_bayes import GaussianNB\n",
    "from sklearn.metrics import accuracy_score\n",
    "from sklearn.metrics import confusion_matrix\n",
    "from sklearn.model_selection import train_test_split"
   ]
  },
  {
   "cell_type": "code",
   "execution_count": 2,
   "id": "11f50fae-9a77-4a05-8086-f2ad56fd7951",
   "metadata": {},
   "outputs": [],
   "source": [
    "dataset = pd.read_csv(\"../data/dataset_categorizado.csv\")"
   ]
  },
  {
   "cell_type": "markdown",
   "id": "bf26f38d-2f2b-447d-b91d-a51c513620dc",
   "metadata": {},
   "source": [
    "## Qual a distribuição entre os sensíveis às camapanhas e os não sensíveis?"
   ]
  },
  {
   "cell_type": "code",
   "execution_count": 11,
   "id": "6d72d9a8-1e86-418e-8ad2-34d463df4c73",
   "metadata": {},
   "outputs": [
    {
     "name": "stdout",
     "output_type": "stream",
     "text": [
      "Clientes com 0 para campanha\n",
      "Grupo 0 (242): 25.47%\n",
      "Grupo 1 (197): 20.74%\n",
      "Grupo 2 (142): 14.95%\n",
      "Grupo 3 (170): 17.89%\n",
      "Grupo 4 (199): 20.95%\n",
      "\n",
      "Clientes com 1 para campanha\n",
      "Grupo 0 (23): 19.17%\n",
      "Grupo 1 (26): 21.67%\n",
      "Grupo 2 (13): 10.83%\n",
      "Grupo 3 (27): 22.5%\n",
      "Grupo 4 (31): 25.83%\n",
      "\n"
     ]
    }
   ],
   "source": [
    "# Avalia a distribuição de grupos\n",
    "for res in [0, 1]:\n",
    "    subset = dataset.loc[dataset[\"Response\"] == res]\n",
    "    grupos = set(subset[\"grupo_cliente\"].values)\n",
    "    \n",
    "    print(f\"Clientes com {res} para campanha\")\n",
    "    for grupo in grupos:\n",
    "        qntd = list(subset[\"grupo_cliente\"].values).count(grupo)\n",
    "        pp = round(qntd * 100 / len(subset), 2)\n",
    "        print(f\"Grupo {grupo} ({qntd}): {pp}%\")\n",
    "    print(\"\")"
   ]
  },
  {
   "cell_type": "code",
   "execution_count": 14,
   "id": "ee0ec6fc-95b7-4e7e-a258-5fafcae5a041",
   "metadata": {},
   "outputs": [
    {
     "name": "stdout",
     "output_type": "stream",
     "text": [
      "Clientes com 0 para campanha\n",
      "MntWines (182435): 59.69%\n",
      "MntFruits (8930): 2.92%\n",
      "MntMeatProducts (68044): 22.26%\n",
      "MntFishProducts (14136): 4.63%\n",
      "MntSweetProducts (9586): 3.14%\n",
      "MntGoldProds (22507): 7.36%\n",
      "\n",
      "Clientes com 1 para campanha\n",
      "MntWines (34988): 61.77%\n",
      "MntFruits (1554): 2.74%\n",
      "MntMeatProducts (12508): 22.08%\n",
      "MntFishProducts (2206): 3.89%\n",
      "MntSweetProducts (1540): 2.72%\n",
      "MntGoldProds (3843): 6.79%\n",
      "\n"
     ]
    }
   ],
   "source": [
    "# Avalia a distribuição para tipos de produtos\n",
    "campos = {\n",
    "    \"MntWines\": 0,\n",
    "    \"MntFruits\": 0,\n",
    "    \"MntMeatProducts\": 0,\n",
    "    \"MntFishProducts\": 0,\n",
    "    \"MntSweetProducts\": 0,\n",
    "    \"MntGoldProds\": 0\n",
    "}\n",
    "\n",
    "for res in [0, 1]:\n",
    "    print(f\"Clientes com {res} para campanha\")\n",
    "    subset = dataset.loc[dataset[\"Response\"] == res]\n",
    "    \n",
    "    # Computa as quantidades em cada tipo de produto\n",
    "    total_compras = 0\n",
    "    for campo in campos.keys():\n",
    "        total = sum(subset[campo].values)\n",
    "        campos[campo] = total\n",
    "        total_compras = total_compras + total\n",
    "        \n",
    "    # Compila as porcentagens\n",
    "    for campo in campos.keys():\n",
    "        pp = round(campos[campo] * 100 / total_compras, 2)\n",
    "        print(f\"{campo} ({campos[campo]}): {pp}%\")\n",
    "    print(\"\")"
   ]
  },
  {
   "cell_type": "code",
   "execution_count": 15,
   "id": "0013ef1a-9fa5-4b7a-a23e-0bed3b9b29e6",
   "metadata": {},
   "outputs": [
    {
     "name": "stdout",
     "output_type": "stream",
     "text": [
      "Clientes com 0 para campanha\n",
      "NumDealsPurchases (2104): 18.38%\n",
      "NumWebPurchases (3181): 27.79%\n",
      "NumCatalogPurchases (1430): 12.49%\n",
      "NumStorePurchases (4732): 41.34%\n",
      "\n",
      "Clientes com 1 para campanha\n",
      "NumDealsPurchases (319): 19.0%\n",
      "NumWebPurchases (538): 32.04%\n",
      "NumCatalogPurchases (270): 16.08%\n",
      "NumStorePurchases (552): 32.88%\n",
      "\n"
     ]
    }
   ],
   "source": [
    "# Avalia a distribuição as formas de compra\n",
    "campos = {\n",
    "    \"NumDealsPurchases\": 0,\n",
    "    \"NumWebPurchases\": 0,\n",
    "    \"NumCatalogPurchases\": 0,\n",
    "    \"NumStorePurchases\": 0\n",
    "}\n",
    "\n",
    "for res in [0, 1]:\n",
    "    print(f\"Clientes com {res} para campanha\")\n",
    "    subset = dataset.loc[dataset[\"Response\"] == res]\n",
    "    \n",
    "    # Computa as quantidades em cada forma de compra\n",
    "    total_formas = 0\n",
    "    for campo in campos.keys():\n",
    "        total = sum(subset[campo].values)\n",
    "        campos[campo] = total\n",
    "        total_formas = total_formas + total\n",
    "        \n",
    "    # Compila as porcentagens\n",
    "    for campo in campos.keys():\n",
    "        pp = round(campos[campo] * 100 / total_formas, 2)\n",
    "        print(f\"{campo} ({campos[campo]}): {pp}%\")\n",
    "    print(\"\")"
   ]
  },
  {
   "cell_type": "markdown",
   "id": "f5c9d0f9-00da-41e6-9875-e5b8e7e4ba70",
   "metadata": {},
   "source": [
    "## Encontra um modelo classificativo"
   ]
  },
  {
   "cell_type": "code",
   "execution_count": 34,
   "id": "224d8ec3-c877-4547-a502-e35051835d94",
   "metadata": {},
   "outputs": [
    {
     "name": "stdout",
     "output_type": "stream",
     "text": [
      "Encontrada acurácia de 0.89\n"
     ]
    }
   ],
   "source": [
    "# Prepara os dados para modelagem\n",
    "y = dataset[\"Response\"].values\n",
    "x = dataset[[\n",
    "    \"encoder_escolaridade\",\n",
    "    \"encoder_estado_civil\",\n",
    "    \"encoder_nascimento\",\n",
    "    \"encoder_renda\"\n",
    "]].values\n",
    "\n",
    "# Separa o conjunto de treino e de teste\n",
    "x_treino, x_teste, y_treino, y_teste = train_test_split(x, y, test_size=0.2, random_state=0)\n",
    "\n",
    "# Executa a classificação\n",
    "classificador = GaussianNB()\n",
    "classificador.fit(x_treino, y_treino)\n",
    "\n",
    "# Avalia acurácia\n",
    "y_pred = classificador.predict(x_teste)\n",
    "acuracia = accuracy_score(y_teste, y_pred)\n",
    "\n",
    "print(f\"Encontrada acurácia de {round(acuracia, 2)}\")"
   ]
  }
 ],
 "metadata": {
  "kernelspec": {
   "display_name": "Python 3 (ipykernel)",
   "language": "python",
   "name": "python3"
  },
  "language_info": {
   "codemirror_mode": {
    "name": "ipython",
    "version": 3
   },
   "file_extension": ".py",
   "mimetype": "text/x-python",
   "name": "python",
   "nbconvert_exporter": "python",
   "pygments_lexer": "ipython3",
   "version": "3.8.10"
  }
 },
 "nbformat": 4,
 "nbformat_minor": 5
}
