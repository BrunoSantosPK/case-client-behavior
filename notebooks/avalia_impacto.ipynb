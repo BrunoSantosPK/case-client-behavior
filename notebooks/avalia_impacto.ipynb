{
 "cells": [
  {
   "cell_type": "markdown",
   "id": "d46d0ac1-f34c-4bbe-ac75-a07681c7b5ce",
   "metadata": {},
   "source": [
    "## Carrega bibliotecas necessárias e a base de dados processada"
   ]
  },
  {
   "cell_type": "code",
   "execution_count": 1,
   "id": "5de0d247-52be-482a-ac4f-aad56429798c",
   "metadata": {},
   "outputs": [],
   "source": [
    "import pandas as pd"
   ]
  },
  {
   "cell_type": "code",
   "execution_count": 2,
   "id": "11f50fae-9a77-4a05-8086-f2ad56fd7951",
   "metadata": {},
   "outputs": [],
   "source": [
    "dataset = pd.read_csv(\"../data/dataset_categorizado.csv\")"
   ]
  },
  {
   "cell_type": "markdown",
   "id": "bf26f38d-2f2b-447d-b91d-a51c513620dc",
   "metadata": {},
   "source": [
    "## Qual a distribuição entre os sensíveis às camapanhas e não sensíveis?"
   ]
  },
  {
   "cell_type": "code",
   "execution_count": 15,
   "id": "f9a1b6d1-0a8d-4d40-9c97-938907af7850",
   "metadata": {},
   "outputs": [
    {
     "name": "stdout",
     "output_type": "stream",
     "text": [
      "AVALIANDO A DISTRUIBUIÇÃO DE GRUPOS\n",
      "Grupo 0 19.166666666666668 %\n",
      "Grupo 1 21.666666666666668 %\n",
      "Grupo 2 10.833333333333334 %\n",
      "Grupo 3 22.5 %\n",
      "Grupo 4 25.833333333333332 %\n",
      "\n",
      "AVALIANDO A DISTRUIBUIÇÃO DE PRODUTOS\n",
      "MntFruits: 16.99660942797769 %\n",
      "MntFishProducts: 24.127748003937437 %\n",
      "MntSweetProducts: 16.84348682051843 %\n",
      "MntGoldProds: 42.03215574756644 %\n"
     ]
    }
   ],
   "source": [
    "subset = dataset.loc[dataset[\"Response\"] == 1]\n",
    "grupos = set(subset[\"grupo_cliente\"].values)\n",
    "tamanho = len(subset)\n",
    "\n",
    "print(\"AVALIANDO A DISTRUIBUIÇÃO DE GRUPOS\")\n",
    "for grupo in grupos:\n",
    "    ocorrencias = list(subset[\"grupo_cliente\"].values).count(grupo)\n",
    "    print(f\"Grupo {grupo} {ocorrencias * 100 / tamanho} %\")\n",
    "print(\"\")\n",
    "\n",
    "campos = {\n",
    "    #\"MntWines\": 0,\n",
    "    \"MntFruits\": 0,\n",
    "    #\"MntMeatProducts\": 0,\n",
    "    \"MntFishProducts\": 0,\n",
    "    \"MntSweetProducts\": 0,\n",
    "    \"MntGoldProds\": 0\n",
    "}\n",
    "\n",
    "total_compras = 0\n",
    "for campo in campos.keys():\n",
    "    total = sum(subset[campo].values)\n",
    "    campos[campo] = total\n",
    "    total_compras = total_compras + total\n",
    "    \n",
    "print(\"AVALIANDO A DISTRUIBUIÇÃO DE PRODUTOS\")\n",
    "for campo in campos.keys():\n",
    "    pp = campos[campo] * 100 / total_compras\n",
    "    print(f\"{campo}: {pp} %\")"
   ]
  },
  {
   "cell_type": "code",
   "execution_count": null,
   "id": "5f04e0df-5385-4b3a-8098-4d971184fdbb",
   "metadata": {},
   "outputs": [],
   "source": []
  },
  {
   "cell_type": "code",
   "execution_count": null,
   "id": "c2847dde-d8e7-4d7e-bb87-f6eff30d8e18",
   "metadata": {},
   "outputs": [],
   "source": []
  }
 ],
 "metadata": {
  "kernelspec": {
   "display_name": "Python 3 (ipykernel)",
   "language": "python",
   "name": "python3"
  },
  "language_info": {
   "codemirror_mode": {
    "name": "ipython",
    "version": 3
   },
   "file_extension": ".py",
   "mimetype": "text/x-python",
   "name": "python",
   "nbconvert_exporter": "python",
   "pygments_lexer": "ipython3",
   "version": "3.7.6"
  }
 },
 "nbformat": 4,
 "nbformat_minor": 5
}
