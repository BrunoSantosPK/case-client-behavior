{
 "cells": [
  {
   "cell_type": "code",
   "execution_count": 1,
   "id": "062ad63f-6a6c-4db9-b49c-d86df2c0d35a",
   "metadata": {},
   "outputs": [],
   "source": [
    "import pandas as pd\n",
    "import matplotlib.pyplot as plt\n",
    "from sklearn.cluster import KMeans\n",
    "from sklearn.preprocessing import LabelEncoder"
   ]
  },
  {
   "cell_type": "markdown",
   "id": "6c7a8ed2-71b3-4200-89e7-07f2a8e1da67",
   "metadata": {},
   "source": [
    "# Hipóteses\n",
    "\n",
    "## Primeira hipótese\n",
    "*É possível agrupar os usuários de acordo com o tipo de comida que consomem*\n",
    "- MntWines\n",
    "- MntFruits\n",
    "- MntMeatProducts\n",
    "- MntFishProducts\n",
    "- MntSweetProducts\n",
    "- MntGoldProds\n",
    "\n",
    "## Segunda hipótese\n",
    "*É possível agrupar os usuários de acordo com a forma de compra*\n",
    "- NumDealsPurchases\n",
    "- NumWebPurchases\n",
    "- NumCatalogPurchases\n",
    "- NumStorePurchases\n",
    "\n",
    "## Terceira hipótese\n",
    "*Clientes com famílias maiores possuem menor tempo desde a última compra*\n",
    "\n",
    "## Quarta hipótese\n",
    "*Um determinado grupo (cluster) tende a ser mais afetado pelo mkt*\n",
    "\n",
    "## Quinta hipótese\n",
    "*Os clientes de renda mais baixa representam que quantidade das compras? Pertencem a um grupo específico?*\n",
    "\n",
    "## Sexta hipótese\n",
    "*Quem tende a comprar mais? Solteiros ou casados? Quem compra com mais frequência?*"
   ]
  },
  {
   "cell_type": "code",
   "execution_count": 2,
   "id": "fd3bd6b7-5491-4902-bbc6-b969e89f0a35",
   "metadata": {},
   "outputs": [],
   "source": [
    "dataset = pd.read_csv(\"../data/dataset.csv\").dropna()"
   ]
  },
  {
   "cell_type": "code",
   "execution_count": 3,
   "id": "6edb9068-048f-4caa-87bb-2e3371de04c1",
   "metadata": {},
   "outputs": [
    {
     "ename": "NameError",
     "evalue": "name 'x_forma_compra' is not defined",
     "output_type": "error",
     "traceback": [
      "\u001b[0;31m---------------------------------------------------------------------------\u001b[0m",
      "\u001b[0;31mNameError\u001b[0m                                 Traceback (most recent call last)",
      "Input \u001b[0;32mIn [3]\u001b[0m, in \u001b[0;36m<module>\u001b[0;34m\u001b[0m\n\u001b[1;32m      7\u001b[0m cluster_produto\u001b[38;5;241m.\u001b[39mfit(x_produto\u001b[38;5;241m.\u001b[39mvalues)\n\u001b[1;32m      9\u001b[0m est_cluster_produto \u001b[38;5;241m=\u001b[39m {\n\u001b[1;32m     10\u001b[0m     \u001b[38;5;124m\"\u001b[39m\u001b[38;5;124m0\u001b[39m\u001b[38;5;124m\"\u001b[39m: [],\n\u001b[1;32m     11\u001b[0m     \u001b[38;5;124m\"\u001b[39m\u001b[38;5;124m1\u001b[39m\u001b[38;5;124m\"\u001b[39m: [],\n\u001b[0;32m   (...)\u001b[0m\n\u001b[1;32m     21\u001b[0m     \u001b[38;5;124m\"\u001b[39m\u001b[38;5;124m11\u001b[39m\u001b[38;5;124m\"\u001b[39m: []\n\u001b[1;32m     22\u001b[0m }\n\u001b[0;32m---> 24\u001b[0m \u001b[38;5;28;01mfor\u001b[39;00m i \u001b[38;5;129;01min\u001b[39;00m \u001b[38;5;28mrange\u001b[39m(\u001b[38;5;241m0\u001b[39m, \u001b[38;5;28mlen\u001b[39m(\u001b[43mx_forma_compra\u001b[49m)):\n\u001b[1;32m     25\u001b[0m     \u001b[38;5;66;03m# Set de informações para o registro em iteração\u001b[39;00m\n\u001b[1;32m     26\u001b[0m     campos \u001b[38;5;241m=\u001b[39m [c \u001b[38;5;28;01mfor\u001b[39;00m c \u001b[38;5;129;01min\u001b[39;00m x_produto\u001b[38;5;241m.\u001b[39mcolumns]\n\u001b[1;32m     27\u001b[0m     produtos \u001b[38;5;241m=\u001b[39m [v \u001b[38;5;28;01mfor\u001b[39;00m v \u001b[38;5;129;01min\u001b[39;00m x_produto\u001b[38;5;241m.\u001b[39mvalues[i]]\n",
      "\u001b[0;31mNameError\u001b[0m: name 'x_forma_compra' is not defined"
     ]
    }
   ],
   "source": [
    "# Cria a forma de agrupar os clientes no tipo de produto\n",
    "x_produto = dataset[[\n",
    "    \"MntWines\", \"MntFruits\", \"MntMeatProducts\",\n",
    "    \"MntFishProducts\", \"MntSweetProducts\", \"MntGoldProds\"\n",
    "]]\n",
    "cluster_produto = KMeans(n_clusters=6, random_state=0)\n",
    "cluster_produto.fit(x_produto.values)\n",
    "\n",
    "est_cluster_produto = {\n",
    "    \"0\": [],\n",
    "    \"1\": [],\n",
    "    \"2\": [],\n",
    "    \"3\": [],\n",
    "    \"4\": [],\n",
    "    \"5\": [],\n",
    "    \"6\": [],\n",
    "    \"7\": [],\n",
    "    \"8\": [],\n",
    "    \"9\": [],\n",
    "    \"10\": [],\n",
    "    \"11\": []\n",
    "}\n",
    "\n",
    "for i in range(0, len(x_forma_compra)):\n",
    "    # Set de informações para o registro em iteração\n",
    "    campos = [c for c in x_produto.columns]\n",
    "    produtos = [v for v in x_produto.values[i]]\n",
    "    cluster_classificado = str(cluster_produto.labels_[i])\n",
    "    \n",
    "    # Ordena (bolha) para descobrir os métodos mais utilizados\n",
    "    total = len(produtos)\n",
    "    for j in range(0, total):\n",
    "        for k in range(j, total):\n",
    "            pivot = produtos[j]\n",
    "            \n",
    "            if pivot < produtos[k]:\n",
    "                produtos[j], produtos[k] = produtos[k], pivot\n",
    "                campos[j], campos[k] = campos[k], campos[j]\n",
    "    \n",
    "    # Registra o resultado na chave do cluster\n",
    "    est_cluster_produto[cluster_classificado].append(campos[0])\n",
    "    est_cluster_produto[cluster_classificado].append(campos[1])\n",
    "    \n",
    "# Sumariza e descreve o cluster encontrado\n",
    "for cluster in est_cluster_produto.keys():\n",
    "    campos = list(set(est_cluster_produto[cluster]))\n",
    "    res = []\n",
    "    \n",
    "    for campo in campos:\n",
    "        cont = est_cluster_produto[cluster].count(campo)\n",
    "        res.append(f\"{campo}: {cont}\")\n",
    "    print(res)"
   ]
  },
  {
   "cell_type": "code",
   "execution_count": null,
   "id": "4fdc899e-f5ff-4f4b-bd75-8f5ad81415b7",
   "metadata": {},
   "outputs": [],
   "source": [
    "# Cria a forma de agrupar os clientes na forma de compra\n",
    "x_forma_compra = dataset[[\n",
    "    \"NumDealsPurchases\", \"NumWebPurchases\",\n",
    "    \"NumCatalogPurchases\", \"NumStorePurchases\"\n",
    "]]\n",
    "cluster_forma_compra = KMeans(n_clusters=4, random_state=0)\n",
    "cluster_forma_compra.fit(x_forma_compra.values)\n",
    "\n",
    "est_cluster_compra = {\n",
    "    \"0\": [],\n",
    "    \"1\": [],\n",
    "    \"2\": [],\n",
    "    \"3\": [],\n",
    "    \"4\": [],\n",
    "    \"5\": [],\n",
    "    \"6\": [],\n",
    "    \"7\": [],\n",
    "    \"8\": [],\n",
    "    \"9\": [],\n",
    "    \"10\": [],\n",
    "    \"11\": []\n",
    "}\n",
    "\n",
    "for i in range(0, len(x_forma_compra)):\n",
    "    # Set de informações para o registro em iteração\n",
    "    campos = [c for c in x_forma_compra.columns]\n",
    "    formas = [v for v in x_forma_compra.values[i]]\n",
    "    cluster_classificado = str(cluster_forma_compra.labels_[i])\n",
    "    \n",
    "    # Ordena (bolha) para descobrir os métodos mais utilizados\n",
    "    total = len(formas)\n",
    "    for j in range(0, total):\n",
    "        for k in range(j, total):\n",
    "            pivot = formas[j]\n",
    "            \n",
    "            if pivot < formas[k]:\n",
    "                formas[j], formas[k] = formas[k], pivot\n",
    "                campos[j], campos[k] = campos[k], campos[j]\n",
    "    \n",
    "    # Registra o resultado na chave do cluster\n",
    "    est_cluster_compra[cluster_classificado].append(campos[0])\n",
    "    \n",
    "# Sumariza e descreve o cluster encontrado\n",
    "for cluster in est_cluster_compra.keys():\n",
    "    campos = list(set(est_cluster_compra[cluster]))\n",
    "    res = []\n",
    "    \n",
    "    for campo in campos:\n",
    "        cont = est_cluster_compra[cluster].count(campo)\n",
    "        res.append(f\"{campo}: {cont}\")\n",
    "    print(res)"
   ]
  },
  {
   "cell_type": "code",
   "execution_count": null,
   "id": "993e04fb-945e-4312-a217-6f4be77cd352",
   "metadata": {},
   "outputs": [],
   "source": []
  },
  {
   "cell_type": "code",
   "execution_count": null,
   "id": "24288390-0531-44cf-8451-56679b7307de",
   "metadata": {},
   "outputs": [],
   "source": [
    "# Avaliando número de clusters para o tipo de produto\n",
    "inercia = []\n",
    "for i in range(1, 11):\n",
    "    cluster = KMeans(n_clusters=i, random_state=0)\n",
    "    cluster.fit(x_produto.values)\n",
    "    inercia.append(cluster.inertia_)\n",
    "    \n",
    "plt.plot(range(1, 11), inercia)\n",
    "plt.xlabel(\"Número de clusters\")\n",
    "plt.ylabel(\"Inércia\") \n",
    "plt.show()"
   ]
  },
  {
   "cell_type": "code",
   "execution_count": null,
   "id": "34947fa7-e4a2-450d-9f6c-ea71ec52b15f",
   "metadata": {},
   "outputs": [],
   "source": [
    "# Avaliando número de clusters para a forma de compra\n",
    "inercia = []\n",
    "for i in range(1, 16):\n",
    "    cluster = KMeans(n_clusters=i, random_state=0)\n",
    "    cluster.fit(x_forma_compra.values)\n",
    "    inercia.append(cluster.inertia_)\n",
    "    \n",
    "plt.plot(range(1, 16), inercia)\n",
    "plt.xlabel(\"Número de clusters\")\n",
    "plt.ylabel(\"Inércia\") \n",
    "plt.show()"
   ]
  },
  {
   "cell_type": "code",
   "execution_count": 24,
   "id": "a12caa7d-9a4a-4075-bc51-f6beca37a29a",
   "metadata": {},
   "outputs": [
    {
     "data": {
      "text/plain": [
       "(1996, 1893)"
      ]
     },
     "execution_count": 24,
     "metadata": {},
     "output_type": "execute_result"
    }
   ],
   "source": [
    "max(dataset[\"Year_Birth\"].values), min(dataset[\"Year_Birth\"].values)"
   ]
  },
  {
   "cell_type": "code",
   "execution_count": 59,
   "id": "ea9472fb-5928-493e-b121-35250085b3c5",
   "metadata": {},
   "outputs": [
    {
     "name": "stdout",
     "output_type": "stream",
     "text": [
      "342 pessoas no grupo 0\n",
      "526 pessoas no grupo 1\n",
      "416 pessoas no grupo 2\n",
      "499 pessoas no grupo 3\n",
      "430 pessoas no grupo 4\n",
      "3 pessoas no grupo 5\n"
     ]
    },
    {
     "name": "stderr",
     "output_type": "stream",
     "text": [
      "C:\\Users\\99818854\\Pessoal\\ProjetosGit\\case-client-behavior-ifood\\.venv\\lib\\site-packages\\ipykernel_launcher.py:14: SettingWithCopyWarning: \n",
      "A value is trying to be set on a copy of a slice from a DataFrame.\n",
      "Try using .loc[row_indexer,col_indexer] = value instead\n",
      "\n",
      "See the caveats in the documentation: https://pandas.pydata.org/pandas-docs/stable/user_guide/indexing.html#returning-a-view-versus-a-copy\n",
      "  \n",
      "C:\\Users\\99818854\\Pessoal\\ProjetosGit\\case-client-behavior-ifood\\.venv\\lib\\site-packages\\ipykernel_launcher.py:17: SettingWithCopyWarning: \n",
      "A value is trying to be set on a copy of a slice from a DataFrame.\n",
      "Try using .loc[row_indexer,col_indexer] = value instead\n",
      "\n",
      "See the caveats in the documentation: https://pandas.pydata.org/pandas-docs/stable/user_guide/indexing.html#returning-a-view-versus-a-copy\n",
      "C:\\Users\\99818854\\Pessoal\\ProjetosGit\\case-client-behavior-ifood\\.venv\\lib\\site-packages\\ipykernel_launcher.py:25: SettingWithCopyWarning: \n",
      "A value is trying to be set on a copy of a slice from a DataFrame.\n",
      "Try using .loc[row_indexer,col_indexer] = value instead\n",
      "\n",
      "See the caveats in the documentation: https://pandas.pydata.org/pandas-docs/stable/user_guide/indexing.html#returning-a-view-versus-a-copy\n",
      "C:\\Users\\99818854\\Pessoal\\ProjetosGit\\case-client-behavior-ifood\\.venv\\lib\\site-packages\\ipykernel_launcher.py:28: SettingWithCopyWarning: \n",
      "A value is trying to be set on a copy of a slice from a DataFrame.\n",
      "Try using .loc[row_indexer,col_indexer] = value instead\n",
      "\n",
      "See the caveats in the documentation: https://pandas.pydata.org/pandas-docs/stable/user_guide/indexing.html#returning-a-view-versus-a-copy\n",
      "C:\\Users\\99818854\\Pessoal\\ProjetosGit\\case-client-behavior-ifood\\.venv\\lib\\site-packages\\ipykernel_launcher.py:29: SettingWithCopyWarning: \n",
      "A value is trying to be set on a copy of a slice from a DataFrame.\n",
      "Try using .loc[row_indexer,col_indexer] = value instead\n",
      "\n",
      "See the caveats in the documentation: https://pandas.pydata.org/pandas-docs/stable/user_guide/indexing.html#returning-a-view-versus-a-copy\n",
      "C:\\Users\\99818854\\Pessoal\\ProjetosGit\\case-client-behavior-ifood\\.venv\\lib\\site-packages\\ipykernel_launcher.py:50: SettingWithCopyWarning: \n",
      "A value is trying to be set on a copy of a slice from a DataFrame.\n",
      "Try using .loc[row_indexer,col_indexer] = value instead\n",
      "\n",
      "See the caveats in the documentation: https://pandas.pydata.org/pandas-docs/stable/user_guide/indexing.html#returning-a-view-versus-a-copy\n"
     ]
    }
   ],
   "source": [
    "# Define as colunas para agrupamento de clientes\n",
    "col_grupo_clientes = [\n",
    "    \"Year_Birth\",\n",
    "    \"Education\",\n",
    "    \"Marital_Status\",\n",
    "    #\"Income\",\n",
    "    \"Kidhome\",\n",
    "    \"Teenhome\"\n",
    "]\n",
    "df_clientes = dataset[col_grupo_clientes]\n",
    "\n",
    "# Prepara os dados para agrupamento de perfil de clientes\n",
    "le_ed = LabelEncoder()\n",
    "df_clientes[\"Education\"] = le_ed.fit_transform(df_clientes[\"Education\"].values)\n",
    "\n",
    "le_ec = LabelEncoder()\n",
    "df_clientes[\"Marital_Status\"] = le_ec.fit_transform(df_clientes[\"Marital_Status\"].values)\n",
    "\n",
    "# Executa o agrupamento\n",
    "cluster_clientes = KMeans(n_clusters=6, random_state=0)\n",
    "cluster_clientes.fit(df_clientes.values)\n",
    "\n",
    "# Monta um dataset para explicação dos clusters\n",
    "df_cluster_clientes = []\n",
    "df_clientes[\"cluster\"] = cluster_clientes.labels_\n",
    "\n",
    "# Retorna as classificações dos campos\n",
    "df_clientes[\"Education\"] = le_ed.inverse_transform(df_clientes[\"Education\"].values)\n",
    "df_clientes[\"Marital_Status\"] = le_ec.inverse_transform(df_clientes[\"Marital_Status\"].values)\n",
    "\n",
    "# Realiza um encode para a data de nascimento\n",
    "encode_data = []\n",
    "anos = [n for n in range(1900, 2010, 10)]\n",
    "\n",
    "for i in range(0, len(df_clientes)):\n",
    "    dn = df_clientes[\"Year_Birth\"].values[i]\n",
    "    for j in range(0, len(anos) - 1):\n",
    "        \n",
    "        if j == 0 and dn < anos[j]:\n",
    "            encode_data.append(f\"-{anos[j]}\")\n",
    "            break\n",
    "            \n",
    "        elif dn >= anos[j] and dn < anos[j + 1]:\n",
    "            encode_data.append(f\"{anos[j]}-{anos[j + 1]}\")\n",
    "            break\n",
    "        \n",
    "        elif j == len(anos) - 2 and dn >= anos[j + 1]:\n",
    "            encode_data.append(f\"+{anos[j + 1]}\")\n",
    "\n",
    "df_clientes[\"Year_Birth\"] = encode_data \n",
    "\n",
    "for cluster in set(cluster_clientes.labels_):\n",
    "    subset = df_clientes.loc[df_clientes[\"cluster\"] == cluster]\n",
    "    print(f\"{len(subset)} pessoas no grupo {cluster}\")\n",
    "    \n",
    "    for campo in col_grupo_clientes:\n",
    "        for categoria in set(subset[campo].values):\n",
    "            df_cluster_clientes.append({\n",
    "                \"cluster\": cluster,\n",
    "                \"campo\": campo,\n",
    "                \"categoria\": categoria,\n",
    "                \"observacoes\": list(subset[campo].values).count(categoria)\n",
    "            })\n",
    "            \n",
    "df_cluster_clientes = pd.DataFrame(df_cluster_clientes)"
   ]
  },
  {
   "cell_type": "code",
   "execution_count": 60,
   "id": "9c36b569-3d1a-40c4-ba6e-f96559f08752",
   "metadata": {},
   "outputs": [
    {
     "data": {
      "text/html": [
       "<div>\n",
       "<style scoped>\n",
       "    .dataframe tbody tr th:only-of-type {\n",
       "        vertical-align: middle;\n",
       "    }\n",
       "\n",
       "    .dataframe tbody tr th {\n",
       "        vertical-align: top;\n",
       "    }\n",
       "\n",
       "    .dataframe thead th {\n",
       "        text-align: right;\n",
       "    }\n",
       "</style>\n",
       "<table border=\"1\" class=\"dataframe\">\n",
       "  <thead>\n",
       "    <tr style=\"text-align: right;\">\n",
       "      <th></th>\n",
       "      <th>Year_Birth</th>\n",
       "      <th>Education</th>\n",
       "      <th>Marital_Status</th>\n",
       "      <th>Kidhome</th>\n",
       "      <th>Teenhome</th>\n",
       "      <th>cluster</th>\n",
       "    </tr>\n",
       "  </thead>\n",
       "  <tbody>\n",
       "    <tr>\n",
       "      <th>192</th>\n",
       "      <td>1900-1910</td>\n",
       "      <td>2n Cycle</td>\n",
       "      <td>Divorced</td>\n",
       "      <td>1</td>\n",
       "      <td>0</td>\n",
       "      <td>5</td>\n",
       "    </tr>\n",
       "    <tr>\n",
       "      <th>239</th>\n",
       "      <td>-1900</td>\n",
       "      <td>2n Cycle</td>\n",
       "      <td>Single</td>\n",
       "      <td>0</td>\n",
       "      <td>1</td>\n",
       "      <td>5</td>\n",
       "    </tr>\n",
       "    <tr>\n",
       "      <th>339</th>\n",
       "      <td>-1900</td>\n",
       "      <td>PhD</td>\n",
       "      <td>Together</td>\n",
       "      <td>0</td>\n",
       "      <td>0</td>\n",
       "      <td>5</td>\n",
       "    </tr>\n",
       "  </tbody>\n",
       "</table>\n",
       "</div>"
      ],
      "text/plain": [
       "    Year_Birth Education Marital_Status  Kidhome  Teenhome  cluster\n",
       "192  1900-1910  2n Cycle       Divorced        1         0        5\n",
       "239      -1900  2n Cycle         Single        0         1        5\n",
       "339      -1900       PhD       Together        0         0        5"
      ]
     },
     "execution_count": 60,
     "metadata": {},
     "output_type": "execute_result"
    }
   ],
   "source": [
    "df_clientes.loc[df_clientes[\"cluster\"] == 5]"
   ]
  },
  {
   "cell_type": "code",
   "execution_count": 57,
   "id": "f0045373-41d9-4b24-abdf-9b0c93ee5609",
   "metadata": {},
   "outputs": [
    {
     "name": "stderr",
     "output_type": "stream",
     "text": [
      "C:\\Users\\99818854\\Pessoal\\ProjetosGit\\case-client-behavior-ifood\\.venv\\lib\\site-packages\\ipykernel_launcher.py:14: SettingWithCopyWarning: \n",
      "A value is trying to be set on a copy of a slice from a DataFrame.\n",
      "Try using .loc[row_indexer,col_indexer] = value instead\n",
      "\n",
      "See the caveats in the documentation: https://pandas.pydata.org/pandas-docs/stable/user_guide/indexing.html#returning-a-view-versus-a-copy\n",
      "  \n",
      "C:\\Users\\99818854\\Pessoal\\ProjetosGit\\case-client-behavior-ifood\\.venv\\lib\\site-packages\\ipykernel_launcher.py:17: SettingWithCopyWarning: \n",
      "A value is trying to be set on a copy of a slice from a DataFrame.\n",
      "Try using .loc[row_indexer,col_indexer] = value instead\n",
      "\n",
      "See the caveats in the documentation: https://pandas.pydata.org/pandas-docs/stable/user_guide/indexing.html#returning-a-view-versus-a-copy\n"
     ]
    },
    {
     "data": {
      "image/png": "[encoded data removed]",
      "text/plain": [
       "<Figure size 432x288 with 1 Axes>"
      ]
     },
     "metadata": {
      "needs_background": "light"
     },
     "output_type": "display_data"
    }
   ],
   "source": [
    "# Define as colunas para agrupamento de clientes\n",
    "col_grupo_clientes = [\n",
    "    \"Year_Birth\",\n",
    "    \"Education\",\n",
    "    \"Marital_Status\",\n",
    "    #\"Income\",\n",
    "    \"Kidhome\",\n",
    "    \"Teenhome\"\n",
    "]\n",
    "df_clientes = dataset[col_grupo_clientes]\n",
    "\n",
    "# Prepara os dados para agrupamento de perfil de clientes\n",
    "le_ed = LabelEncoder()\n",
    "df_clientes[\"Education\"] = le_ed.fit_transform(df_clientes[\"Education\"].values)\n",
    "\n",
    "le_ec = LabelEncoder()\n",
    "df_clientes[\"Marital_Status\"] = le_ec.fit_transform(df_clientes[\"Marital_Status\"].values)\n",
    "\n",
    "# Executa análise para quantidade de clusters\n",
    "inercia = []\n",
    "for i in range(1, 11):\n",
    "    cluster = KMeans(n_clusters=i, random_state=0)\n",
    "    cluster.fit(df_clientes.values)\n",
    "    inercia.append(cluster.inertia_)\n",
    "    \n",
    "plt.plot(range(1, 11), inercia)\n",
    "plt.xlabel(\"Número de clusters\")\n",
    "plt.ylabel(\"Inércia\") \n",
    "plt.show()"
   ]
  },
  {
   "cell_type": "code",
   "execution_count": null,
   "id": "274c940c-f55b-4662-8ff2-90bf1b772c9c",
   "metadata": {},
   "outputs": [],
   "source": [
    "df_clientes"
   ]
  },
  {
   "cell_type": "code",
   "execution_count": null,
   "id": "efdd142a-e472-4d17-8637-3865218e6be7",
   "metadata": {},
   "outputs": [],
   "source": [
    "set(dataset[\"Teenhome\"])"
   ]
  },
  {
   "cell_type": "code",
   "execution_count": null,
   "id": "0a4b0b28-1903-4733-a996-9796ef28ecf0",
   "metadata": {},
   "outputs": [],
   "source": [
    "# Avaliando número de clusters para o tipo de produto\n",
    "inercia = []\n",
    "for i in range(1, 11):\n",
    "    cluster = KMeans(n_clusters=i, random_state=0)\n",
    "    cluster.fit(x_produto.values)\n",
    "    inercia.append(cluster.inertia_)\n",
    "    \n",
    "plt.plot(range(1, 11), inercia)\n",
    "plt.xlabel(\"Número de clusters\")\n",
    "plt.ylabel(\"Inércia\") \n",
    "plt.show()"
   ]
  },
  {
   "cell_type": "code",
   "execution_count": null,
   "id": "8659f94c-bfc8-499e-8ad5-b4c4afada364",
   "metadata": {},
   "outputs": [],
   "source": [
    "x"
   ]
  },
  {
   "cell_type": "code",
   "execution_count": null,
   "id": "1e581cda-db37-4708-a6b6-005da4041e89",
   "metadata": {},
   "outputs": [],
   "source": [
    "dataset.columns"
   ]
  },
  {
   "cell_type": "code",
   "execution_count": null,
   "id": "f6016c4c-e16c-4f69-a574-54b11ee7a4c0",
   "metadata": {},
   "outputs": [],
   "source": [
    "dataset"
   ]
  },
  {
   "cell_type": "code",
   "execution_count": null,
   "id": "3d563d41-97ba-4f52-8f4e-6a170b6af34d",
   "metadata": {},
   "outputs": [],
   "source": []
  },
  {
   "cell_type": "code",
   "execution_count": null,
   "id": "889ff8c6-ecd4-45b8-8211-364ba6c70a81",
   "metadata": {},
   "outputs": [],
   "source": []
  }
 ],
 "metadata": {
  "kernelspec": {
   "display_name": "Python 3 (ipykernel)",
   "language": "python",
   "name": "python3"
  },
  "language_info": {
   "codemirror_mode": {
    "name": "ipython",
    "version": 3
   },
   "file_extension": ".py",
   "mimetype": "text/x-python",
   "name": "python",
   "nbconvert_exporter": "python",
   "pygments_lexer": "ipython3",
   "version": "3.7.6"
  }
 },
 "nbformat": 4,
 "nbformat_minor": 5
}
