{
 "cells": [
  {
   "cell_type": "markdown",
   "id": "782898e2-17bd-4320-b66d-8de226c1c010",
   "metadata": {},
   "source": [
    "## Carrega bibliotecas"
   ]
  },
  {
   "cell_type": "code",
   "execution_count": 1,
   "id": "86822880-5b8a-4dac-9196-ab15cd569833",
   "metadata": {},
   "outputs": [],
   "source": [
    "import pickle"
   ]
  },
  {
   "cell_type": "markdown",
   "id": "4a3cd270-b54a-4077-bc10-93a1587ccc2b",
   "metadata": {},
   "source": [
    "## Carrega modelos e encoders"
   ]
  },
  {
   "cell_type": "code",
   "execution_count": 14,
   "id": "75aa7db7-829a-457c-9ce2-7f12ae50f6c7",
   "metadata": {},
   "outputs": [],
   "source": [
    "# Carrega modelo de classificação\n",
    "file = open(\"../models/classificador.pickle\", \"rb\")\n",
    "classificador = pickle.load(file)\n",
    "file.close()\n",
    "\n",
    "# Carrega encoder para escolaridade\n",
    "file = open(\"../models/encoder_escolaridade.pickle\", \"rb\")\n",
    "le_escolaridade = pickle.load(file)\n",
    "file.close()\n",
    "\n",
    "# Carrega encoder para estado civil\n",
    "file = open(\"../models/encoder_estado_civil.pickle\", \"rb\")\n",
    "le_estado_civil = pickle.load(file)\n",
    "file.close()\n",
    "\n",
    "# Carrega encoder para data de nascimento\n",
    "file = open(\"../models/encoder_data_nascimento.pickle\", \"rb\")\n",
    "le_nascimento = pickle.load(file)\n",
    "file.close()\n",
    "\n",
    "# Carrega encoder para renda\n",
    "file = open(\"../models/encoder_renda.pickle\", \"rb\")\n",
    "le_renda = pickle.load(file)\n",
    "file.close()"
   ]
  },
  {
   "cell_type": "markdown",
   "id": "64842e9a-7036-4479-a170-3e322f2eb4e1",
   "metadata": {},
   "source": [
    "## Executa predição"
   ]
  },
  {
   "cell_type": "code",
   "execution_count": 21,
   "id": "79b4ac56-b269-4b21-8c64-d81f16f1c32b",
   "metadata": {},
   "outputs": [
    {
     "name": "stdout",
     "output_type": "stream",
     "text": [
      "O cliente tem 56.96% de responder positivamente.\n"
     ]
    }
   ],
   "source": [
    "# Define uma entrada arbitrária para perfil de cliente\n",
    "renda = \"21000-26000\"\n",
    "data_nascimento = \"1980-1990\"\n",
    "escolaridade = \"Graduation\"\n",
    "estado_civil = \"Married\"\n",
    "qntd_criancas = 1\n",
    "qntd_adolescentes = 0\n",
    "\n",
    "# Aplica os encoders\n",
    "x_entrada = [[\n",
    "    le_escolaridade.transform([escolaridade])[0],\n",
    "    le_estado_civil.transform([estado_civil])[0],\n",
    "    le_nascimento.transform([data_nascimento])[0],\n",
    "    qntd_criancas,\n",
    "    qntd_adolescentes,\n",
    "    le_renda.transform([renda])[0]\n",
    "]]\n",
    "\n",
    "# Avalia a probabilidade de responder positivamente\n",
    "prob = classificador.predict_proba(x_entrada)[0][1]\n",
    "print(f\"O cliente tem {round(prob * 100, 2)}% de responder positivamente.\")"
   ]
  }
 ],
 "metadata": {
  "kernelspec": {
   "display_name": "Python 3 (ipykernel)",
   "language": "python",
   "name": "python3"
  },
  "language_info": {
   "codemirror_mode": {
    "name": "ipython",
    "version": 3
   },
   "file_extension": ".py",
   "mimetype": "text/x-python",
   "name": "python",
   "nbconvert_exporter": "python",
   "pygments_lexer": "ipython3",
   "version": "3.8.10"
  }
 },
 "nbformat": 4,
 "nbformat_minor": 5
}
