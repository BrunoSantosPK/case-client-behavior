{
 "cells": [
  {
   "cell_type": "markdown",
   "id": "d46d0ac1-f34c-4bbe-ac75-a07681c7b5ce",
   "metadata": {},
   "source": [
    "## Carrega bibliotecas necessárias e a base de dados processada"
   ]
  },
  {
   "cell_type": "code",
   "execution_count": 1,
   "id": "5de0d247-52be-482a-ac4f-aad56429798c",
   "metadata": {},
   "outputs": [],
   "source": [
    "import pickle\n",
    "import numpy as np\n",
    "import pandas as pd\n",
    "from datetime import datetime\n",
    "from sklearn.naive_bayes import GaussianNB\n",
    "from sklearn.metrics import accuracy_score\n",
    "from sklearn.metrics import confusion_matrix\n",
    "from sklearn.model_selection import train_test_split"
   ]
  },
  {
   "cell_type": "code",
   "execution_count": 2,
   "id": "11f50fae-9a77-4a05-8086-f2ad56fd7951",
   "metadata": {},
   "outputs": [],
   "source": [
    "dataset = pd.read_csv(\"../data/dataset_categorizado.csv\")"
   ]
  },
  {
   "cell_type": "markdown",
   "id": "f5c9d0f9-00da-41e6-9875-e5b8e7e4ba70",
   "metadata": {},
   "source": [
    "## Encontra um modelo classificativo"
   ]
  },
  {
   "cell_type": "code",
   "execution_count": 58,
   "id": "224d8ec3-c877-4547-a502-e35051835d94",
   "metadata": {},
   "outputs": [
    {
     "name": "stdout",
     "output_type": "stream",
     "text": [
      "Encontrada acurácia de 0.77\n",
      "Total de falsos positivos de 0.06\n"
     ]
    }
   ],
   "source": [
    "# Prepara os dados para modelagem\n",
    "y, x = [], []\n",
    "\n",
    "# Define a regra para equalizar a frequência das classes\n",
    "# Utiliza o ID do registro para coletar únicos\n",
    "dist = {\"1\": 120, \"0\": 120}\n",
    "ids = []\n",
    "total = sum([dist[k] for k in dist.keys()])\n",
    "\n",
    "while len(x) < total:\n",
    "    i = np.random.randint(0, len(dataset))\n",
    "    if dataset[\"ID\"].values[i] in ids:\n",
    "        continue\n",
    "        \n",
    "    classe = dataset[\"Response\"].values[i]\n",
    "    if dist[str(classe)] > 0:\n",
    "        # Salva nas listas para modelagem\n",
    "        y.append(classe)\n",
    "        x.append([\n",
    "            dataset[\"encoder_escolaridade\"].values[i],\n",
    "            dataset[\"encoder_estado_civil\"].values[i],\n",
    "            dataset[\"encoder_nascimento\"].values[i],\n",
    "            dataset[\"Kidhome\"].values[i],\n",
    "            dataset[\"Teenhome\"].values[i],\n",
    "            dataset[\"encoder_renda\"].values[i]\n",
    "        ])\n",
    "        \n",
    "        # Atualiza a distruibuição e a lista de ids\n",
    "        dist[str(classe)] = dist[str(classe)] - 1\n",
    "        ids.append(dataset[\"ID\"].values[i])\n",
    "\n",
    "# Separa o conjunto de treino e de teste\n",
    "x_treino, x_teste, y_treino, y_teste = train_test_split(x, y, test_size=0.2, random_state=0)\n",
    "\n",
    "# Executa a classificação\n",
    "classificador = GaussianNB()\n",
    "classificador.fit(x_treino, y_treino)\n",
    "\n",
    "# Avalia acurácia\n",
    "y_pred = classificador.predict(x_teste)\n",
    "acuracia = accuracy_score(y_teste, y_pred)\n",
    "\n",
    "# Para a matriz de confusão, o melhor é ter poucos erros com falso positivo\n",
    "mc = confusion_matrix(y_teste, y_pred)\n",
    "fp = mc[0][1] / len(y_teste)\n",
    "\n",
    "print(f\"Encontrada acurácia de {round(acuracia, 2)}\")\n",
    "print(f\"Total de falsos positivos de {round(fp, 2)}\")"
   ]
  },
  {
   "cell_type": "markdown",
   "id": "bb11eab7-ec40-4799-9639-5f04d5f95ea4",
   "metadata": {},
   "source": [
    "### Persistindo o melhor teste"
   ]
  },
  {
   "cell_type": "code",
   "execution_count": 59,
   "id": "6b596aae-6455-4c4d-9aec-59ad040b0300",
   "metadata": {},
   "outputs": [],
   "source": [
    "# Salva o modelo de classificação\n",
    "file = open(\"../models/classificador.pickle\", \"wb\")\n",
    "pickle.dump(classificador, file)\n",
    "file.close()\n",
    "\n",
    "# Salva um txt com informações\n",
    "file = open(\"../models/classificador.txt\", \"w+\")\n",
    "file.writelines([\n",
    "    f\"Modelo de classificação salvo em {datetime.now().isoformat()}.\\n\",\n",
    "    f\"Encontrada acurácia de {round(acuracia, 2)}\\n\",\n",
    "    f\"Total de falsos positivos de {round(fp, 2)}\\n\",\n",
    "    \"Campos utilizados:\\n\",\n",
    "    \"> encoder_escolaridade\\n\",\n",
    "    \"> encoder_estado_civil\\n\",\n",
    "    \"> encoder_nascimento\\n\",\n",
    "    \"> quantidade_criancas\\n\",\n",
    "    \"> quantidade_adolescentes\\n\",\n",
    "    \"> encoder_renda\\n\"\n",
    "])\n",
    "file.close()"
   ]
  }
 ],
 "metadata": {
  "kernelspec": {
   "display_name": "Python 3 (ipykernel)",
   "language": "python",
   "name": "python3"
  },
  "language_info": {
   "codemirror_mode": {
    "name": "ipython",
    "version": 3
   },
   "file_extension": ".py",
   "mimetype": "text/x-python",
   "name": "python",
   "nbconvert_exporter": "python",
   "pygments_lexer": "ipython3",
   "version": "3.8.10"
  }
 },
 "nbformat": 4,
 "nbformat_minor": 5
}
